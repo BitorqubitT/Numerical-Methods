{
 "cells": [
  {
   "cell_type": "markdown",
   "metadata": {},
   "source": [
    "Finding the root of an equation is a common problem in mathematics. What is the value of x in order to satisfy $f(x) = 0$?\n",
    "As you probably rememver the quadratic polynomial $ ax^2+bx+c=0 $ is given by the quadratic formula.\n",
    "\n",
    "$$\n",
    "x = \\frac{-b \\pm \\sqrt{b^2-4a}}{2a}\n",
    "$$\n",
    "\n",
    "For the function $f(x) = x^2−9$ it is obvious that the roots are 3 and -3. If we want to use python to check this we can use sympy to do so. Sympy will find the answer analytically and this is also how we would solve this on a piece of paper."
   ]
  },
  {
   "cell_type": "code",
   "execution_count": 1,
   "metadata": {},
   "outputs": [
    {
     "data": {
      "text/plain": [
       "[-3, 3]"
      ]
     },
     "execution_count": 1,
     "metadata": {},
     "output_type": "execute_result"
    }
   ],
   "source": [
    "from sympy.solvers import solve\n",
    "from sympy import Symbol\n",
    "import numpy as np\n",
    "import matplotlib.pyplot as plt\n",
    "\n",
    "x = Symbol('X')\n",
    "solve(x**2 - 9, x)"
   ]
  },
  {
   "cell_type": "markdown",
   "metadata": {},
   "source": [
    "However, there are some problems with this method for finding roots because:\n",
    "- Only formulas exist up to fourth degree polynomials and they are not used often. (abel_ruffi)\n",
    "- Finding the root of transcendental equations can be hard.\n",
    "\n",
    "Numerical mathematics will give us some extra tools to find the roots for harder problems.\n",
    "In this chapter we will discuss the following methods:\n",
    "- Bisection method\n",
    "- Newton's method\n",
    "- Secant method\n",
    "- Regula falsi\n",
    "- Dekker-Brent"
   ]
  },
  {
   "cell_type": "markdown",
   "metadata": {},
   "source": [
    "<h1> 1. Bisection method </h1>\n",
    "\n",
    "The Intermediate Value Theorem states:\n",
    "\n",
    "If $f(x)$ is a continuous function between the real numbers a and b, and $sign(f(a)) \\neq sign(f (b))$,\n",
    "then there must be an u for which, $a < u < b $ and $ f(u) = 0$. This means that u is the root that we are looking for since.\n",
    "\n",
    "The bisection method uses the intermediate value theorem in an iterative way to find roots. Assume that we have an open interval [a,b], where $a < b$ and a continuous function $f(x)$. Also the signs of $f(a)$ and $f(b)$ are not equal, then there must be a root in the open interval $(a, b)$. The midpoint becomes $m = b + \\frac{a}{2}$. \n",
    "\n",
    "This leaves us with three options:\n",
    "1. $f(m) = 0$, m is the root or it is close enough to the root according to the accuracy.\n",
    "2. $f(m) > 0$, m is a better value for the left bound, update a.\n",
    "3. $f(m) < 0$, m is a better value for the right bound, update b.\n",
    "\n",
    "We keep repeating this process until we reach option one.\n",
    "Let's do a few steps of this process with $f(x) = 2x^3+x+1$\n",
    "\n",
    "Pick a and b such that $f(a)$ and $f(b)$ have opposite signs.\n",
    "If we pick $a = 1$ and $b = -2$ we get:\n",
    "\n",
    "$f(1) = 2(1)^3+(1)+1 = 6$ and $f(-2) = 2(-2)^3+(-2)+1 = - 17$\n",
    "\n",
    "The midpoint becomes:\n",
    "\n",
    "$-2 + \\frac{1}{2} = -0,5$\n",
    "\n",
    "$f(m) = 2(-0,5)^3+(-0,5)+1 = 0.25$\n",
    "\n",
    "$f(m)$ is positive this means that the new value of a becomes 0.25, otherwise the signs of $f(a)$ and $f(b)$ will be equal.\n",
    "\n",
    "$f(1) = 2(0.25)^3+(0.25)+0.25 = 6$ and $f(-2) = 2(-2)^3+(-2)+1 = - 17$\n",
    "\n",
    "$-2 + 0.25 / 2 = -0,875$\n",
    "\n",
    "We repeat this process until we have n amount of iterations or we are satisfied with the accuracy. In short, we have this theorem that tell us that if a certain statement holds then we have the root between a and b. This algorithm allows us to keep decreasing the range of a and b, until we reach a small enough interval. In this interval the middle point is the root.\n",
    "\n",
    "Let's implement the bisection method in python and use it to solve:\n",
    "$$\n",
    "f(x) = x^3-x-2\n",
    "$$"
   ]
  },
  {
   "cell_type": "code",
   "execution_count": 2,
   "metadata": {},
   "outputs": [
    {
     "name": "stdout",
     "output_type": "stream",
     "text": [
      "-1 5 2.0\n",
      "-1 2.0 0.5\n",
      "0.5 2.0 1.25\n",
      "1.25 2.0 1.625\n",
      "1.25 1.625 1.4375\n",
      "1.4375 1.625 1.53125\n",
      "1.4375 1.53125 1.484375\n",
      "1.484375 1.53125 1.5078125\n",
      "1.5078125 1.53125 1.51953125\n",
      "1.51953125 1.53125 1.525390625\n",
      "1.51953125 1.525390625 1.5224609375\n",
      "1.51953125 1.5224609375 1.52099609375\n",
      "1.52099609375 1.5224609375 1.521728515625\n",
      "1.52099609375 1.521728515625 1.5213623046875\n",
      "1.5213623046875 1.521728515625 1.52154541015625\n",
      "1.5213623046875 1.52154541015625 1.521453857421875\n",
      "1.5213623046875 1.521453857421875 1.5214080810546875\n",
      "1.5213623046875 1.5214080810546875 1.5213851928710938\n",
      "1.5213623046875 1.5213851928710938 1.5213737487792969\n",
      "1.5213737487792969 1.5213851928710938 1.5213794708251953\n",
      "1.5213794708251953 1.5213851928710938 1.5213823318481445\n",
      "max iter exceeded Convergence around: 1.5213823318481445\n"
     ]
    }
   ],
   "source": [
    "def f(x):\n",
    "    return(x**3 - x - 2)\n",
    "\n",
    "def bisection(f, a, b, tol, max_iter):\n",
    "    number_of_iterations = 0\n",
    "    while number_of_iterations <= max_iter:\n",
    "        c = (a + b)/2\n",
    "        print(a,b,c)\n",
    "        if f(c) == 0 or abs((b - a)/2) < tol:\n",
    "            return c\n",
    "        number_of_iterations += 1\n",
    "        if np.sign(f(c)) == np.sign(f(a)):\n",
    "            a = c\n",
    "        else:\n",
    "            b = c\n",
    "    print(\"max iter exceeded\", \"Convergence around:\", c)\n",
    "    \n",
    "bisection(f, -1, 5,  0.0000001, 20)\n",
    "\n",
    "# put func_f as parameter in bisection function\n",
    "# print out whole list"
   ]
  },
  {
   "cell_type": "code",
   "execution_count": 3,
   "metadata": {},
   "outputs": [
    {
     "data": {
      "image/png": "[encoded data removed]",
      "text/plain": [
       "<Figure size 432x288 with 1 Axes>"
      ]
     },
     "metadata": {
      "needs_background": "light"
     },
     "output_type": "display_data"
    }
   ],
   "source": [
    "import numpy as np\n",
    "import matplotlib.pyplot as plt\n",
    "\n",
    "plot_range = np.arange(-10, 10.0, 0.01)\n",
    "\n",
    "ax = plt.subplot()\n",
    "line, = plt.plot(plot_range, f(plot_range), lw=2)\n",
    "\n",
    "# Take some of the results from the Raphson method\n",
    "all_points = [(-1, 5),(-1, 2.0),(1.4375, 1.625), (1.484375, 1.53125), (1.5213794708251953, 1.5213851928710938)]\n",
    "colors = np.array([\"red\",\"green\",\"blue\",\"yellow\",\"pink\",\"black\",\"orange\",\"purple\",\"beige\",\"brown\",\"gray\",\"cyan\",\"magenta\"])\n",
    "#plt.annotate(\"Point 1\", (1, 4))\n",
    "\n",
    "for v, points in enumerate(all_points):\n",
    "    plt.scatter(points[0], f(points[0]), color = colors[v])\n",
    "    plt.scatter(points[1], f(points[1]), color = colors[v])\n",
    "    \n",
    "plt.title(\"Figure 1: $x^3 - x - 2$\")\n",
    "plt.xlabel('x')\n",
    "plt.ylabel('y')\n",
    "plt.axhline(0, color='black')\n",
    "plt.axvline(0, color='black')\n",
    "plt.ylim(-5, 5)\n",
    "plt.xlim(-5, 5)\n",
    "plt.show()\n",
    "\n",
    "# zeg dat als je dit in een editor runned dan kan je inzoomen.\n",
    "# maak er maybe 1 waarin ik inzoem op het belangrijke stuk"
   ]
  },
  {
   "cell_type": "markdown",
   "metadata": {},
   "source": [
    "Figure 1 shows the function $x^3-x-2$, and we have plotted some of the results from running the bisection function.\n",
    "We plotted a few pair of the a and b values, as you can see the range decreases and they slowly converge to the root.\n",
    "If you would run this code in an IDE you can zoom in further (it's not standard in jupyter and I was too lazy to implement it). Furthermore, you could also make the bisection function save the values and then you could plot them. However, I decided against this because I want to only add necessary stuff in the numerical method functions."
   ]
  },
  {
   "cell_type": "markdown",
   "metadata": {},
   "source": [
    "The final result was 1.5213823318481445, # zeg hier maybe iets over."
   ]
  },
  {
   "cell_type": "markdown",
   "metadata": {},
   "source": [
    "<h1> 2. Newton's method </h1>\n",
    "\n",
    "This method also uses an iterative process, and for it to work the function f has to be differentiable.\n",
    "Because we need to be able to calculate the slope at every point on the graph, if f is differentiable then this holds true.\n",
    "\n",
    "$$\n",
    "l(x) = f' (x_0) (x-x_0) + f(x_0)\n",
    "$$\n",
    "\n",
    "The tangent line $l$ is a linear function, and at $x_0$ $l$ and $f$ are the same. We can calculate $l(x) = 0$ easily because it is linear and this is an approximation to $f(x) = 0 $, which is the root. We can find zero of $l$ with:\n",
    "\n",
    "$$\n",
    "x_1 = x_0 - \\frac{f(x_0)}{f'(x_0)}\n",
    "$$\n",
    "\n",
    "$x_1$ will be close to the root than $x_0$, and we can repeat this process we will calculate $x_2$:\n",
    "\n",
    "$$\n",
    "x_2 = x_1 - \\frac{f(x_1)}{f'(x_1)}\n",
    "$$\n",
    "\n",
    "We run the process until our tolerance and/or max iteration are met. Because we need the derivative it can be quiet difficult or expensive to use this method. However, the derivative can also be approximated by using the slope of a line. Then this method will be similar to the secant method, therefor let's assume that getting the derivative is not a problem.\n",
    "\n",
    "We can solve $x^2-2$"
   ]
  },
  {
   "cell_type": "code",
   "execution_count": 4,
   "metadata": {},
   "outputs": [
    {
     "name": "stdout",
     "output_type": "stream",
     "text": [
      "10.049999999999999 10.049999999999999\n",
      "5.1245024875621885 5.1245024875621885\n",
      "2.757392138419574 2.757392138419574\n",
      "1.7413575804495918 1.7413575804495918\n",
      "1.444943381958916 1.444943381958916\n",
      "1.4145403301286927 1.4145403301286927\n",
      "1.4142136001158032 1.4142136001158032\n",
      "solution is: 1.4142135623730956\n"
     ]
    }
   ],
   "source": [
    "def f(x):\n",
    "    return (x**2 - 2)\n",
    "\n",
    "def fprime(x):\n",
    "    return (2*x)\n",
    "\n",
    "def Raphson(f, fprime, initial_guess, epsilon, maxiter):\n",
    "    solutionfound = False\n",
    "    i = 0\n",
    "    x = initial_guess\n",
    "    while i < maxiter:\n",
    "        if abs(fprime(x)) < epsilon:\n",
    "            break\n",
    "        x_1 = x - (f(x)/fprime(x))\n",
    "        if abs(x_1 - x) <= epsilon:\n",
    "            solutionfound = True\n",
    "            break\n",
    "        i += 1\n",
    "        x = x_1\n",
    "        print(x, x_1)\n",
    "    if solutionfound == True:\n",
    "        print(\"solution is:\", x_1)\n",
    "    else:\n",
    "        print(\"Didn't converge\") \n",
    "        \n",
    "Raphson(f, fprime, 0.1, 1e-7, 20)"
   ]
  },
  {
   "cell_type": "code",
   "execution_count": 5,
   "metadata": {},
   "outputs": [
    {
     "data": {
      "image/png": "[encoded data removed]",
      "text/plain": [
       "<Figure size 432x288 with 1 Axes>"
      ]
     },
     "metadata": {
      "needs_background": "light"
     },
     "output_type": "display_data"
    }
   ],
   "source": [
    "import numpy as np\n",
    "import matplotlib.pyplot as plt\n",
    "\n",
    "plot_range = np.arange(-10, 10.0, 0.01)\n",
    "\n",
    "def tangent_line(f, fp, x0, x1):\n",
    "    return fp(x0)*(x1-x0)+f(x0)\n",
    "\n",
    "ax = plt.subplot()\n",
    "line, = plt.plot(plot_range, f(plot_range), lw=2)\n",
    "\n",
    "# Take some of the results from the Raphson method\n",
    "all_lines = [10.049999999999999, 5.1245024875621885, 2.757392138419574, 1.4142135623730956]\n",
    "\n",
    "for line in all_lines:\n",
    "    plt.plot(plot_range, tangent_line(f, fprime, line, plot_range), lw=1)\n",
    "\n",
    "    \n",
    "    \n",
    "# Take some of the results from the Raphson method\n",
    "all_points = [(10.049999999999999, 5.1245024875621885),\n",
    "              (5.1245024875621885, 2.757392138419574),\n",
    "              (2.757392138419574, 1.7413575804495918), \n",
    "              (1.4142136001158032, 1.4142135623730956)]\n",
    "colors = np.array([\"orange\", \"green\", \"red\", \"purple\"])\n",
    "#plt.annotate(\"Point 1\", (1, 4))\n",
    "\n",
    "for v, points in enumerate(all_points):\n",
    "    plt.scatter(points[0], f(points[0]), color = colors[v])\n",
    "    plt.scatter(points[1], 0, color = colors[v])\n",
    "    \n",
    "plt.title(\"Figure 2: $x^2 - 2$\")\n",
    "plt.xlabel('x')\n",
    "plt.ylabel('y')  \n",
    "plt.axhline(0, color='black')\n",
    "plt.axvline(0, color='black')\n",
    "plt.ylim(-5, 100)\n",
    "plt.xlim(-5, 16)\n",
    "plt.show()"
   ]
  },
  {
   "cell_type": "markdown",
   "metadata": {},
   "source": [
    "Figure 2 shows more clearly how the Raphson method worked. Remember we start initial guess $x_0 = 0.1$ then we calculate $x_1$.\n",
    "This is when our tangent line crosses the x axes so $l(x) = 0$, this happens at $x_1 = 5.1245024875621885$. This value is then used for the second iteration. We calculate the tangent line at $x_1$ and we find $x_2$ at 2.757392138419574. We keep repeating this process and we can see that the tangent lines converge to f(x) = 0, which is the root and the goal of this method."
   ]
  },
  {
   "cell_type": "markdown",
   "metadata": {},
   "source": [
    "SOURCES: \n",
    "    https://en.wikipedia.org/wiki/Bisection_method\n",
    "    https://en.wikipedia.org/wiki/Newton%27s_method"
   ]
  },
  {
   "cell_type": "markdown",
   "metadata": {},
   "source": [
    "<h1> 3. Secant method </h1>\n",
    "\n",
    "As mentioned before we don't have to calculate the derivatives, we can approximate them and this is what the secant method basically does.\n",
    "\n",
    "Instead of using \n",
    "\n",
    "$$\n",
    "x_1 = x_0 - \\frac{f(x_0)}{f'(x_0)}\n",
    "$$\n",
    "\n",
    "We can approximate the derivative:\n",
    "\n",
    "$$\n",
    "f'(x) \\approx \\frac{f(x+h)-f(x)}{h}\n",
    "$$\n",
    "\n",
    "We can substitute x for $x_n$ and $ h = x_{n-1} - x_n$, this gives us\n",
    "\n",
    "$$\n",
    "f'(x_n) \\approx \\frac{f(x_{n-1})-f(x_n)}{x_{n-1}-x_{n}}\n",
    "$$\n",
    "\n",
    "We can substitute this for f'(x_n) in the first equation.\n",
    "\n",
    "\n",
    "$$\n",
    "x_{n+1} = x_n - \\frac{x_n - x_{n-1}}{f(x_n)-f(x_{n-1})}f(x_n)\n",
    "$$\n"
   ]
  },
  {
   "cell_type": "code",
   "execution_count": 6,
   "metadata": {
    "scrolled": true
   },
   "outputs": [
    {
     "name": "stdout",
     "output_type": "stream",
     "text": [
      "-1 -1.5\n",
      "-1 -1.0557491289198606\n",
      "-1.0557491289198606 -1.114157827689621\n",
      "-1.114157827689621 -1.1046154657060105\n",
      "-1.1046154657060105 -1.1052894533146722\n",
      "-1.1052894533146722 -1.1052985553987347\n",
      "-1.1052985553987347 -1.1052985460060405\n",
      "-1.1052985460060405 -1.1052985460061695\n",
      "-1.1052985460061695 -1.1052985460061695\n",
      "-1.1052985460061695\n",
      "0---------------------------------------\n"
     ]
    }
   ],
   "source": [
    "# denk dat ie nog niet klopt maybe moet ik x1 en x0 omwisselen als 1 groter is dan de andere\n",
    "\n",
    "def secant(f, x0, x1, tolerance, maxiter):\n",
    "    i = 0\n",
    "    while i < maxiter:\n",
    "        if abs(f(x0)) > abs(f(x1)):\n",
    "            x0, x1 = x1, x0\n",
    "        if abs(f(x1)-f(x0)) <= tolerance*f(x1):\n",
    "            #halt\n",
    "            return x1\n",
    "        x1 = x1 - ((x1-x0)/(f(x1)-f(x0))) * f(x1)\n",
    "        i +=1\n",
    "        print(x0, x1)\n",
    "    return x1\n",
    "    \n",
    "def f(x):\n",
    "    return (x**5 + x**3 + 3)\n",
    "\n",
    "print(secant(f, -1, 1, 1e-7, 20))\n",
    "print(\"0---------------------------------------\")"
   ]
  },
  {
   "cell_type": "code",
   "execution_count": 7,
   "metadata": {},
   "outputs": [],
   "source": [
    "# put graph for secant?"
   ]
  },
  {
   "cell_type": "markdown",
   "metadata": {},
   "source": [
    "<h1>4. Regula falsi</h1>\n",
    "\n",
    "This method combines the ideas from the secant and bisection method. \n",
    "lalallala\n",
    "The method goes as follows: pick $x_0$ and $x_1$ in a way that $f(x_0)f(x_1) < 0$ because this implies that $x^* \\in (x_0,x_1)$. Then $x_2$ is calculated as following:\n",
    "\n",
    "$$x_2 = x_1 - \\frac{f(x_1)(x_1-x_0)}{f(x_1)-f(x_0)} $$\n",
    "\n",
    "Just like with the bisection method this leaves us with three options:\n",
    "- $f(x_2) = 0$, and $x_2 = x^*$\n",
    "- $f(x_0)f(x_2) < 0$, this means that $x^* \\in (x_0, x_2)$\n",
    "- $f(x_1)f(x_2) < 0$, then $x^* \\in (x_2, x_1)$\n",
    "\n",
    "\n",
    "https://en.wikipedia.org/wiki/Regula_falsi\n",
    "\n",
    "\n",
    "$x^*$ is the root, maybe use u, like it was used in the bisection method."
   ]
  },
  {
   "cell_type": "code",
   "execution_count": 8,
   "metadata": {
    "scrolled": false
   },
   "outputs": [
    {
     "name": "stdout",
     "output_type": "stream",
     "text": [
      "1.263157894736842 1\n",
      "1.3388278388278387 2\n",
      "1.358546341824779 3\n",
      "1.3635474400420904 4\n",
      "1.3648070318267802 5\n",
      "1.3651237178843778 6\n",
      "1.3652033036626001 7\n",
      "1.365223301985543 8\n",
      "1.3652283270255192 9\n",
      "1.3652295896738464 10\n",
      "1.365229906940572 11\n",
      "1.3652299866604183\n"
     ]
    }
   ],
   "source": [
    "def f(x):\n",
    "    return (x**3 + 4*x**2 - 10)\n",
    "\n",
    "\n",
    "#if np.sign(f(x_0)) == np.sign(f(x_2)):\n",
    "\n",
    "def regula_falsi(f, a, b, ep, maxiter):\n",
    "    i = 0\n",
    "    x_0 = a\n",
    "    x_1 = b\n",
    "    if f(a) * f(b) > 0:\n",
    "        return (\"wrong initial guess\")\n",
    "    while i < maxiter:\n",
    "        f_0 = f(x_0)\n",
    "        f_1 = f(x_1) \n",
    "        x_2 = x_1 - (((x_1-x_0)*f(x_1))/(f(x_1)-f(x_0)))\n",
    "        f_2 = f(x_2)\n",
    "        if np.sign(f(x_0)) == np.sign(f(x_2)):\n",
    "            x_0 = x_2\n",
    "        else:\n",
    "            x_1 = x_2\n",
    "        if abs(f(x_2)) <= ep:\n",
    "            #make sure i cut off depending on the precision\n",
    "            return x_2\n",
    "        i += 1\n",
    "        print(x_2, i)\n",
    "    return (\"bish did not converge\", x_2)\n",
    "        \n",
    "print(regula_falsi(f, 1, 2, 1e-6, 20))    "
   ]
  },
  {
   "cell_type": "markdown",
   "metadata": {},
   "source": [
    "Small overview of methods\n",
    "- define some functions\n",
    "- run all methods\n",
    "- graph the results in a cool way\n"
   ]
  },
  {
   "cell_type": "code",
   "execution_count": 9,
   "metadata": {},
   "outputs": [],
   "source": [
    "#add loads of f(x) and check their values with my methods and those from scipy or w/e\n",
    "# https://www.axians.nl/blog/het-zoeken-van-nulpunten-met-bisectie-en-regula-falsi/ check die graphs"
   ]
  },
  {
   "cell_type": "markdown",
   "metadata": {},
   "source": [
    "<h1>Dekker-Brent</h1>\n",
    "\n",
    "https://en.wikipedia.org/wiki/Brent%27s_method\n",
    "\n",
    "http://reports.ias.ac.in/report/18641/implementation-of-brent-dekker-and-a-better-root-finding-method-and-brent-dekker-methods-parallelization\n",
    "\n",
    "zeg maybe -1 ipv 0,1\n",
    "\n",
    "Dekker-Brent algorithm is similar to regula falsi in the fact that is uses the bisection method and the secant method; however, it does so in a more efficient manor. Again we need the most recent $x$ values, these are given by $x_0$ and $x_1$. We also need an interval for which the root is in between a and b. We define $y_n$ as the most recent $x_n$ for which $f(y_{n})f(x_{n}) < 0 $. This implies that $u$ is between $x_n$ and $y_n$. We have three points given by $x_n, x_{n-1}, y_{n}$ and in the next iteration these become  $x_{n+1}, x_{n}, y_{n+1}$.\n",
    "To do so we calculate the secant point:\n",
    "$$\n",
    "s_{n+1}=x_{n}-\\frac{f(x_{n})(x_n-x_{n-1})}{f(x_n)-f(x_{n-1})}\n",
    "$$\n",
    "and the bisection point:\n",
    "$$\n",
    "b_{n+1}=\\frac{x_{k}+y_{k}}{2}\n",
    "$$\n",
    "\n"
   ]
  },
  {
   "cell_type": "markdown",
   "metadata": {},
   "source": [
    "This leaves us with two possibilities:\n",
    "- If $s_{n+1}$ is between $x_n$ and $y_n$, and $y_{n} \\neq y_{n-2}$, then $x_{n+1} = s_{n+1}$\n",
    "- If $s_{n+1}$ is not between $x_n$ and $y_n$, $x_{n+1} = b_{n+1}$\n",
    "\n",
    "The value of $y_{n+1}$ is decided as following:\n",
    "- If $f(x_{n})f(x_{n+1}) < 0$, then $y_{n+1} = x_{n}$\n",
    "- If $f(x_{n})f(x_{n+1}) \\geq 0$, then $y_{n+1} = y_{n}$\n",
    "\n",
    "#add some more of the text here\n"
   ]
  },
  {
   "cell_type": "code",
   "execution_count": 10,
   "metadata": {},
   "outputs": [
    {
     "name": "stdout",
     "output_type": "stream",
     "text": [
      "1.232558139534762 1.232558139534762 0 secant\n",
      "1.1420520085833925 1.1420520085833925 1 inverse quadratic interpolation\n",
      "-1.4289739957083039 -1.4289739957083039 2 bisection\n",
      "-2.714486997854152 -2.714486997854152 3 bisection\n",
      "-3.357243498927076 -2.714486997854152 4 bisection\n",
      "-3.035865248390614 -2.714486997854152 5 bisection\n",
      "-2.875176123122383 -2.875176123122383 6 bisection\n",
      "-2.9555206857564986 -2.9555206857564986 7 bisection\n",
      "-2.9956929670735564 -2.9956929670735564 8 bisection\n",
      "-3.0000030287065558 -2.9956929670735564 9 inverse quadratic interpolation\n",
      "-2.9999999934670885 -2.9999999934670885 10 secant\n"
     ]
    },
    {
     "data": {
      "text/plain": [
       "(-2.9999999934670885, -3.000001511086822)"
      ]
     },
     "execution_count": 10,
     "metadata": {},
     "output_type": "execute_result"
    }
   ],
   "source": [
    "import math\n",
    "\n",
    "def f(x):\n",
    "    return ((x+3)*(x-1)**2)\n",
    "\n",
    "#def f(x):\n",
    "    #return (math.e**x *math.cos(x+3)+(x+1)* math.sin(x))\n",
    "\n",
    "# inverse quadratic interpolation\n",
    "def inverseQuadInt(f, a, b, c):   \n",
    "    iqi_1 = ((a * f(b) * f(c))/((f(a) - f(b)) * (f(a) - f(c))))\n",
    "    iqi_2 = ((b * f(a) * f(c))/((f(b) - f(a)) * (f(b) - f(c))))\n",
    "    iqi_3 = ((c * f(a) * f(b))/((f(c) - f(a)) * (f(c) - f(b))))\n",
    "    return iqi_1 + iqi_2 + iqi_3\n",
    "\n",
    "def secant2(f, a, b):\n",
    "    return b - (f(b) * (((b - a))/((f(b) - f(a)))))\n",
    "\n",
    "def dekkerBrent(f, a, b, ep, maxiter):\n",
    "    if f(a) * f(b) >= 0:\n",
    "        return \"wrong entry\"\n",
    "    if abs(f(a)) < abs(f(b)):\n",
    "        a, b = b, a\n",
    "    delta = ep\n",
    "    c = a\n",
    "    i = 0\n",
    "    d = 0\n",
    "    mflag = True\n",
    "    while i < maxiter:\n",
    "        if f(a) != f(c) and f(b) != f(c):\n",
    "            s = inverseQuadInt(f, a, b, c)\n",
    "            method = \"inverse quadratic interpolation\"\n",
    "        else:\n",
    "            s = secant2(f, a, b)\n",
    "            method = \"secant\"\n",
    "        if ((3 * a + b)/4 < s) is not True and (s < b) is not True:\n",
    "            s = (a+b)/2\n",
    "            method = \"bisection\"\n",
    "            mflag = True\n",
    "        elif abs(s-b) >= abs(b-c)/2 and mflag is True or abs(s-b) < abs(delta) and mflag is True:\n",
    "            s = (a+b)/2\n",
    "            method = \"bisection\"\n",
    "            mflag = True\n",
    "        elif abs(s-b) >= abs(c-d)/2 and mflag is False or abs(c-d) < abs(delta) and mflag is False:\n",
    "            s = (a+b)/2\n",
    "            method = \"bisection\"\n",
    "            mflag = True\n",
    "        else: \n",
    "            mflag = False\n",
    "        if f(b) == 0 or f(s) == 0 or abs(b-a) < ep:\n",
    "            return b, s\n",
    "        d = c\n",
    "        c = b\n",
    "        if f(a) * f(s) < 0:\n",
    "            b = s\n",
    "        else:\n",
    "            a = s\n",
    "        print(s, b, i, method)\n",
    "        i += 1\n",
    "    return c, s, \"maxiter has been reached: \", maxiter\n",
    "                                                                 \n",
    "dekkerBrent(f, -4, 1.333333333333, 0.0005, 40)     \n",
    "#dekkerBrent(f, 0, 3, 1e-6, 100)     \n",
    "\n",
    "# CLEAN THE CODE\n",
    "# https://en.wikipedia.org/wiki/Brent%27s_method"
   ]
  },
  {
   "cell_type": "markdown",
   "metadata": {},
   "source": [
    "<h1>Examples and Analysis </h1>\n",
    "\n",
    "Now we will compare the different methods on a few functions, we start by creating some functions."
   ]
  },
  {
   "cell_type": "code",
   "execution_count": 11,
   "metadata": {},
   "outputs": [],
   "source": [
    "def bisection(f, a, b, tol, max_iter):\n",
    "    iterations = 0\n",
    "    while iterations <= max_iter:\n",
    "        c = (a + b)/2\n",
    "        if f(c) == 0 or abs((b - a)/2) < tol:\n",
    "            return c, iterations\n",
    "        iterations += 1\n",
    "        if np.sign(f(c)) == np.sign(f(a)):\n",
    "            a = c\n",
    "        else:\n",
    "            b = c\n",
    "    return c, iterations\n",
    "\n",
    "def Raphson(f, fprime, initial_guess, epsilon, maxiter):\n",
    "    solutionfound = False\n",
    "    iterations = 0\n",
    "    x = initial_guess\n",
    "    while iterations < maxiter:\n",
    "        if abs(fprime(x)) < epsilon:\n",
    "            break\n",
    "        x_1 = x - (f(x)/fprime(x))\n",
    "        if abs(x_1 - x) <= epsilon:\n",
    "            solutionfound = True\n",
    "            break\n",
    "        iterations += 1\n",
    "        x = x_1\n",
    "    if solutionfound == True:\n",
    "        return x_1, iterations\n",
    "    else:\n",
    "        return x_1, iterations\n",
    "\n",
    "def secant(f, x0, x1, tolerance, maxiter):\n",
    "    iterations = 0\n",
    "    while iterations < maxiter:\n",
    "        if abs(f(x0)) > abs(f(x1)):\n",
    "            x0, x1 = x1, x0\n",
    "        if abs(f(x1)-f(x0)) <= tolerance*f(x1):\n",
    "            return x1, iterations\n",
    "        x1 = x1 - ((x1-x0)/(f(x1)-f(x0))) * f(x1)\n",
    "        iterations += 1\n",
    "    return x1, iterations\n",
    "\n",
    "def regula_falsi(f, a, b, ep, maxiter):\n",
    "    iterations = 0\n",
    "    x_0 = a\n",
    "    x_1 = b\n",
    "    if f(a) * f(b) > 0:\n",
    "        # wrong entry\n",
    "        return 0, 0\n",
    "    while iterations < maxiter:\n",
    "        f_0 = f(x_0)\n",
    "        f_1 = f(x_1) \n",
    "        x_2 = x_1 - (((x_1-x_0)*f(x_1))/(f(x_1)-f(x_0)))\n",
    "        f_2 = f(x_2)\n",
    "        if np.sign(f(x_0)) == np.sign(f(x_2)):\n",
    "            x_0 = x_2\n",
    "        else:\n",
    "            x_1 = x_2\n",
    "        if abs(f(x_2)) <= ep:\n",
    "            return x_2, iterations\n",
    "        iterations += 1\n",
    "    return (x_2, iterations)   \n",
    "\n",
    "def inverseQuadInt(f, a, b, c):   \n",
    "    iqi_1 = ((a * f(b) * f(c))/((f(a) - f(b)) * (f(a) - f(c))))\n",
    "    iqi_2 = ((b * f(a) * f(c))/((f(b) - f(a)) * (f(b) - f(c))))\n",
    "    iqi_3 = ((c * f(a) * f(b))/((f(c) - f(a)) * (f(c) - f(b))))\n",
    "    return iqi_1 + iqi_2 + iqi_3\n",
    "\n",
    "def secant2(f, a, b):\n",
    "    return b - (f(b) * (((b - a))/((f(b) - f(a)))))\n",
    "\n",
    "def dekkerBrent(f, a, b, ep, maxiter):\n",
    "    if f(a) * f(b) >= 0:\n",
    "        # wrong entry\n",
    "        return 0, 0\n",
    "    if abs(f(a)) < abs(f(b)):\n",
    "        a, b = b, a\n",
    "    delta = ep\n",
    "    c = a\n",
    "    iterations = 0\n",
    "    d = 0\n",
    "    mflag = True\n",
    "    while iterations < maxiter:\n",
    "        if f(a) != f(c) and f(b) != f(c):\n",
    "            s = inverseQuadInt(f, a, b, c)\n",
    "        else:\n",
    "            s = secant2(f, a, b)\n",
    "        if ((3 * a + b)/4 < s) is not True and (s < b) is not True:\n",
    "            s = (a+b)/2\n",
    "            mflag = True\n",
    "        elif abs(s-b) >= abs(b-c)/2 and mflag is True or abs(s-b) < abs(delta) and mflag is True:\n",
    "            s = (a+b)/2\n",
    "            mflag = True\n",
    "        elif abs(s-b) >= abs(c-d)/2 and mflag is False or abs(c-d) < abs(delta) and mflag is False:\n",
    "            s = (a+b)/2\n",
    "            mflag = True\n",
    "        else: \n",
    "            mflag = False\n",
    "        if f(b) == 0 or f(s) == 0 or abs(b-a) < ep:\n",
    "            return s, iterations\n",
    "        d = c\n",
    "        c = b\n",
    "        if f(a) * f(s) < 0:\n",
    "            b = s\n",
    "        else:\n",
    "            a = s\n",
    "        iterations += 1\n",
    "    return c, iterations"
   ]
  },
  {
   "cell_type": "code",
   "execution_count": 12,
   "metadata": {},
   "outputs": [],
   "source": [
    "def f1(x):\n",
    "    return x**3 - x - 2\n",
    "\n",
    "def f2(x):\n",
    "    return x**5 + x**3 + 3\n",
    "\n",
    "def f3(x):\n",
    "    return math.cos(x)+x**4-3  \n",
    "\n",
    "def f4(x):\n",
    "    return x**3 + 4*x**2 - 10\n",
    "\n",
    "def f5(x):\n",
    "    return math.e**x*math.cos(x+3)+(x+1)*math.sin(x)"
   ]
  },
  {
   "cell_type": "markdown",
   "metadata": {},
   "source": [
    "We can use sympy to calculate the first derivatives of these functions."
   ]
  },
  {
   "cell_type": "code",
   "execution_count": 13,
   "metadata": {},
   "outputs": [
    {
     "name": "stdout",
     "output_type": "stream",
     "text": [
      "3*x**2 - 1\n",
      "5*x**4 + 3*x**2\n",
      "4*x**3 - sin(x)\n",
      "3*x**2 + 8*x\n",
      "-2.71828182845905**x*sin(x + 3) + 1.0*2.71828182845905**x*cos(x + 3) + (x + 1)*cos(x) + sin(x)\n"
     ]
    }
   ],
   "source": [
    "# Can use sympy to calculate the derivatives a follow:\n",
    "from sympy import diff, sin, exp \n",
    "from sympy.abc import x,y \n",
    "from sympy import * \n",
    "\n",
    "function1 = x**3 - x - 2\n",
    "function2 = x**5 + x**3 + 3\n",
    "function3 = cos(x)+x**4-3\n",
    "function4 = x**3 + 4*x**2 - 10\n",
    "function5 = math.e**x*cos(x+3)+(x+1)*sin(x)\n",
    "\n",
    "print(diff(function1, x))\n",
    "print(diff(function2, x))\n",
    "print(diff(function3, x))\n",
    "print(diff(function4, x))\n",
    "print(diff(function5, x))"
   ]
  },
  {
   "cell_type": "markdown",
   "metadata": {},
   "source": [
    "Now we put these derivatives in a functions aswell, ofcourse you could automate this and let the Raphson function take care of this, but implementing this would probably be more work. After having done that we write some code to find the root for different functions while using different methods and varying the other parameters."
   ]
  },
  {
   "cell_type": "code",
   "execution_count": 14,
   "metadata": {},
   "outputs": [
    {
     "name": "stdout",
     "output_type": "stream",
     "text": [
      "   Function     Value  Iterations Start_range        Method\n",
      "0        f1  1.521385          16      (1, 2)     bisection\n",
      "1        f1  1.521376          18      (1, 4)     bisection\n",
      "2        f1  1.521377          20    (-1, 12)     bisection\n",
      "3        f1  1.521380           5      (1, 2)       Raphson\n",
      "4        f1  1.521380           5      (1, 4)       Raphson\n",
      "..      ...       ...         ...         ...           ...\n",
      "70       f5  1.040543          20      (1, 4)  regula_falsi\n",
      "71       f5  0.000000           0    (-1, 12)  regula_falsi\n",
      "72       f5  1.041233          17      (1, 2)   dekkerBrent\n",
      "73       f5  1.041230          19      (1, 4)   dekkerBrent\n",
      "74       f5  0.000000           0    (-1, 12)   dekkerBrent\n",
      "\n",
      "[75 rows x 5 columns]\n"
     ]
    },
    {
     "data": {
      "text/plain": [
       "\"\\nimport numpy as np\\nimport matplotlib.pyplot as plt\\ndata = [[30, 25, 50, 20],\\n[40, 23, 51, 17],\\n[35, 22, 45, 19]]\\nX = np.arange(4)\\nfig = plt.figure()\\nax = fig.add_axes([0,0,1,1])\\nax.bar(X + 0.00, data[0], color = 'b', width = 0.25)\\nax.bar(X + 0.25, data[1], color = 'g', width = 0.25)\\nax.bar(X + 0.50, data[2], color = 'r', width = 0.25)\\n\""
      ]
     },
     "execution_count": 14,
     "metadata": {},
     "output_type": "execute_result"
    }
   ],
   "source": [
    "import pandas as pd\n",
    "\n",
    "# Define derivatives\n",
    "def fp1(x):\n",
    "    return 3*x**2 - 1\n",
    "\n",
    "def fp2(x):\n",
    "    return 5*x**4 + 3*x**2\n",
    "\n",
    "def fp3(x):\n",
    "    return 4*x**3 - math.sin(x)\n",
    "\n",
    "def fp4(x):\n",
    "    return 3*x**2 + 8*x\n",
    "\n",
    "def fp5(x):\n",
    "    return -2.71828182845905**x*math.sin(x + 3) + 1.0*2.71828182845905**x*math.cos(x + 3) + (x + 1)*math.cos(x) + math.sin(x)\n",
    "\n",
    "start_value_1 = (1, 2)\n",
    "start_value_2 = (1, 4)\n",
    "start_value_3 = (-1, 12)\n",
    "epsilon = 1e-5\n",
    "max_iterations = 20\n",
    "\n",
    "all_functions = [f1, f2, f3, f4, f5]\n",
    "all_first_derivatives = [fp1, fp2, fp3, fp4, fp5]\n",
    "all_methods = [bisection, Raphson, secant, regula_falsi, dekkerBrent]\n",
    "all_start_values = [start_value_1, start_value_2, start_value_3]\n",
    "\n",
    "all_results = []\n",
    "\n",
    "for v, f in enumerate(all_functions):\n",
    "    for method in all_methods:\n",
    "        for start_value in all_start_values:\n",
    "            if method == Raphson:\n",
    "                root, iterations = method(f, all_first_derivatives[v], start_value[0], epsilon, max_iterations)\n",
    "                all_results.append((f.__name__, root, iterations, start_value, method.__name__))\n",
    "            else:\n",
    "                root, iterations = method(f, start_value[0], start_value[1], epsilon, max_iterations)\n",
    "                all_results.append((f.__name__, root, iterations, start_value, method.__name__))\n",
    "                \n",
    "    \n",
    "#https://stackoverflow.com/questions/13784192/creating-an-empty-pandas-dataframe-then-filling-it\n",
    "# great post\n",
    "#lets create a dataframe\n",
    "\n",
    "#if value, iter == 0, 0 == error\n",
    "\n",
    "df = pd.DataFrame(all_results, columns=[\"Function\", \"Value\", \"Iterations\", \"Start_range\", \"Method\"])\n",
    "\n",
    "print(df)\n",
    "\n",
    "            \n",
    "#def bisection(f, a, b, ep, maxiter):\n",
    "#def Raphson(f, fprime, initial_guess, ep, maxiter):\n",
    "#def secant(f, a, b, ep, maxiter):\n",
    "#def regula_falsi(f, a, b, ep, maxiter):\n",
    "#def dekkerBrent(f, a, b, ep, maxiter):\n",
    "\n",
    "#maybe kan ik waardes die heel gunstig liggen pakken en verder\n",
    "# en dan kijken naar de correlatie over verder van de ROOT > Dekkerbrent presteerd beter ivhm andere\n",
    "# zoek verschillen tussen algos en laat die hier zien.\n",
    "\n",
    "#FIRST CHECK THIS RAPHSON ERROR- SHOULD I USE X_1 everywhere?\n",
    "# CHECK OG ALGO\n",
    "# do some more test cases\n",
    "# write code for comparison\n",
    "# check literature with interesting cases, strong points and weakpoints etc.\n",
    "# make sure f5 works from numerical method book\n",
    "\n",
    "\n",
    "\n",
    "\"\"\"\n",
    "print(fresults_1)\n",
    "\n",
    "import matplotlib.pyplot as plt\n",
    "fig = plt.figure()\n",
    "ax = fig.add_axes([0,0,1,1])\n",
    "langs = ['C', 'C++', 'Java', 'Python', 'PHP']\n",
    "ax.bar(langs, all_results)\n",
    "plt.show()\n",
    "\"\"\"\n",
    "\"\"\"\n",
    "import numpy as np\n",
    "import matplotlib.pyplot as plt\n",
    "data = [[30, 25, 50, 20],\n",
    "[40, 23, 51, 17],\n",
    "[35, 22, 45, 19]]\n",
    "X = np.arange(4)\n",
    "fig = plt.figure()\n",
    "ax = fig.add_axes([0,0,1,1])\n",
    "ax.bar(X + 0.00, data[0], color = 'b', width = 0.25)\n",
    "ax.bar(X + 0.25, data[1], color = 'g', width = 0.25)\n",
    "ax.bar(X + 0.50, data[2], color = 'r', width = 0.25)\n",
    "\"\"\"\n",
    "\n",
    "# Ik heb 5 lijsten met hieronder.\n",
    "# Hoe wil ik dit hebben om het makkelijk te verwerken\n",
    "# bedenk eerst welke graphs ik wil? en dan hoe de data het makkelijkste gevormd kan worden"
   ]
  },
  {
   "cell_type": "markdown",
   "metadata": {},
   "source": [
    "# We got the data in a nice format lets plot it so we can compare them.\n",
    "# Do this for every function\n",
    "import matplotlib.pyplot as plt\n",
    "\n",
    "df_f1 = df[df[\"Function\"] == \"f1\"]\n",
    "df_f1 = df_f1[df_f1[\"Start_range\"] == (1, 2)]\n",
    "df_f1.plot(kind='bar', x='Method',y='Iterations')\n"
   ]
  },
  {
   "cell_type": "code",
   "execution_count": 32,
   "metadata": {},
   "outputs": [
    {
     "data": {
      "image/png": "[encoded data removed]",
      "text/plain": [
       "<Figure size 432x288 with 1 Axes>"
      ]
     },
     "metadata": {
      "needs_background": "light"
     },
     "output_type": "display_data"
    },
    {
     "data": {
      "image/png": "[encoded data removed]",
      "text/plain": [
       "<Figure size 432x288 with 1 Axes>"
      ]
     },
     "metadata": {
      "needs_background": "light"
     },
     "output_type": "display_data"
    },
    {
     "data": {
      "image/png": "[encoded data removed]",
      "text/plain": [
       "<Figure size 432x288 with 1 Axes>"
      ]
     },
     "metadata": {
      "needs_background": "light"
     },
     "output_type": "display_data"
    },
    {
     "data": {
      "image/png": "[encoded data removed]",
      "text/plain": [
       "<Figure size 432x288 with 1 Axes>"
      ]
     },
     "metadata": {
      "needs_background": "light"
     },
     "output_type": "display_data"
    },
    {
     "data": {
      "image/png": "[encoded data removed]",
      "text/plain": [
       "<Figure size 432x288 with 1 Axes>"
      ]
     },
     "metadata": {
      "needs_background": "light"
     },
     "output_type": "display_data"
    }
   ],
   "source": [
    "for i in all_methods:\n",
    "    df_f1 = df[df[\"Function\"] == \"f1\"]\n",
    "    df_f1 = df_f1[df_f1[\"Method\"] == i.__name__]\n",
    "    df_f1.plot(kind='bar', x='Start_range',y='Iterations')"
   ]
  },
  {
   "cell_type": "code",
   "execution_count": 35,
   "metadata": {},
   "outputs": [
    {
     "data": {
      "text/plain": [
       "(0.5773502691896257, 14)"
      ]
     },
     "execution_count": 35,
     "metadata": {},
     "output_type": "execute_result"
    }
   ],
   "source": [
    "def f5(x):\n",
    "    return 3*x**2 - 1\n",
    "\n",
    "def secant(f, x0, x1, tolerance, maxiter):\n",
    "    iterations = 0\n",
    "    while iterations < maxiter:\n",
    "        if abs(f(x0)) > abs(f(x1)):\n",
    "            x0, x1 = x1, x0\n",
    "        if abs(f(x1)-f(x0)) <= tolerance*f(x1):\n",
    "            return x1, iterations\n",
    "        x1 = x1 - ((x1-x0)/(f(x1)-f(x0))) * f(x1)\n",
    "        iterations += 1\n",
    "    return x1, iterations\n",
    "\n",
    "secant(f5, 0, 4, 0.00005, 20)"
   ]
  },
  {
   "cell_type": "markdown",
   "metadata": {},
   "source": [
    "why does this algo use inverse quadratic interpolation  instead of linear int like the secant method does?\n",
    "check advantages etc.\n",
    "implement this"
   ]
  },
  {
   "cell_type": "markdown",
   "metadata": {},
   "source": [
    "Overall the secant method does not always converge and the bisection method does.\n",
    "If secant method converges this wil often be faster than the bissection method. \n",
    "Newton raphson does not guarantee convergence but when it does converrge then this will be fast.\n",
    "Deciding what starting values to use is not so easy."
   ]
  }
 ],
 "metadata": {
  "kernelspec": {
   "display_name": "Python 3",
   "language": "python",
   "name": "python3"
  },
  "language_info": {
   "codemirror_mode": {
    "name": "ipython",
    "version": 3
   },
   "file_extension": ".py",
   "mimetype": "text/x-python",
   "name": "python",
   "nbconvert_exporter": "python",
   "pygments_lexer": "ipython3",
   "version": "3.7.6"
  }
 },
 "nbformat": 4,
 "nbformat_minor": 4
}
